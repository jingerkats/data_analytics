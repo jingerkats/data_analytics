{
  "nbformat": 4,
  "nbformat_minor": 0,
  "metadata": {
    "colab": {
      "name": "Unit 2 Lesson 4.ipynb",
      "provenance": [],
      "collapsed_sections": [],
      "authorship_tag": "ABX9TyOQPNfyWlLj0giLMdCOqFV1",
      "include_colab_link": true
    },
    "kernelspec": {
      "name": "python3",
      "display_name": "Python 3"
    }
  },
  "cells": [
    {
      "cell_type": "markdown",
      "metadata": {
        "id": "view-in-github",
        "colab_type": "text"
      },
      "source": [
        "<a href=\"https://colab.research.google.com/github/jingerkats/data_analytics/blob/main/Unit_2_Lesson_4.ipynb\" target=\"_parent\"><img src=\"https://colab.research.google.com/assets/colab-badge.svg\" alt=\"Open In Colab\"/></a>"
      ]
    },
    {
      "cell_type": "code",
      "metadata": {
        "colab": {
          "base_uri": "https://localhost:8080/"
        },
        "id": "u0Af_tMFxfQO",
        "outputId": "b3c30885-dca6-4a7e-9b06-a1466fd1e95e"
      },
      "source": [
        "#1. Create a list that holds 5 data variables\r\n",
        "characters = [\"Bojack\",\"Diane\", \"Mr. PeanutButter\", \"Todd\", \"Princess Carolyn\"]\r\n",
        "\r\n",
        "#2. Print out those variables by using a for loop\r\n",
        "for char in characters:\r\n",
        "  print(char)\r\n",
        "print(\"\\n\")\r\n",
        "\r\n",
        "#3. Modify your for loop to add a message to your for loop.\r\n",
        "for char in characters:\r\n",
        "  print(char + \" is my favorite character!\")\r\n",
        "print(\"\\n\")\r\n",
        "\r\n",
        "#4 Use a for loop to print even numbers from 1-20.\r\n",
        "for num in range(0,21,2):\r\n",
        "  print(num)\r\n",
        "print(\"\\n\")\r\n",
        "\r\n",
        "#5. Sort your list in alphabetic order.\r\n",
        "characters.sort\r\n",
        "\r\n",
        "#6. Print out the first three elements of your list.\r\n",
        "print(characters[0:3])\r\n",
        "\r\n",
        "#7. Create a list to print the last 2 elements of your list.\r\n",
        "print(characters[-2:])"
      ],
      "execution_count": 17,
      "outputs": [
        {
          "output_type": "stream",
          "text": [
            "Bojack\n",
            "Diane\n",
            "Mr. PeanutButter\n",
            "Todd\n",
            "Princess Carolyn\n",
            "\n",
            "\n",
            "Bojack is my favorite character!\n",
            "Diane is my favorite character!\n",
            "Mr. PeanutButter is my favorite character!\n",
            "Todd is my favorite character!\n",
            "Princess Carolyn is my favorite character!\n",
            "\n",
            "\n",
            "0\n",
            "2\n",
            "4\n",
            "6\n",
            "8\n",
            "10\n",
            "12\n",
            "14\n",
            "16\n",
            "18\n",
            "20\n",
            "\n",
            "\n",
            "['Bojack', 'Diane', 'Mr. PeanutButter']\n",
            "['Todd', 'Princess Carolyn']\n"
          ],
          "name": "stdout"
        }
      ]
    }
  ]
}