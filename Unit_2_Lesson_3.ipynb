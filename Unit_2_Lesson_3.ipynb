{
  "nbformat": 4,
  "nbformat_minor": 0,
  "metadata": {
    "colab": {
      "name": "Unit 2 Lesson 3",
      "provenance": [],
      "collapsed_sections": [],
      "authorship_tag": "ABX9TyP/F7g2u8MLI+bWfJABWUcM",
      "include_colab_link": true
    },
    "kernelspec": {
      "name": "python3",
      "display_name": "Python 3"
    }
  },
  "cells": [
    {
      "cell_type": "markdown",
      "metadata": {
        "id": "view-in-github",
        "colab_type": "text"
      },
      "source": [
        "<a href=\"https://colab.research.google.com/github/jingerkats/data_analytics/blob/main/Unit_2_Lesson_3.ipynb\" target=\"_parent\"><img src=\"https://colab.research.google.com/assets/colab-badge.svg\" alt=\"Open In Colab\"/></a>"
      ]
    },
    {
      "cell_type": "code",
      "metadata": {
        "id": "2U4rhPvWY1_O",
        "colab": {
          "base_uri": "https://localhost:8080/"
        },
        "outputId": "0d20c578-34ea-488b-8d1c-3e9a7aae1025"
      },
      "source": [
        "#1 Create a list of 5 of your favorite tv shows\r\n",
        "tv_shows = [\"Bojack Horseman\", \"Queereye\", \"Criminal Minds\", \"Youth with You\", \"Fourtry\"]\r\n",
        "print(\"\\n\")\r\n",
        "\r\n",
        "#2 Print the list in its original order\r\n",
        "print(tv_shows)\r\n",
        "print(\"\\n\")\r\n",
        "\r\n",
        "#3 Use the sorted() function to print the list in alphabetaical order.\r\n",
        "# How is sorted() different from sort()\r\n",
        "print(sorted(tv_shows))\r\n",
        "print(\"Sorted only temporarily sorts a list, sort permanently sorts it.\")\r\n",
        "print(\"\\n\")\r\n",
        "\r\n",
        "#4 Print out your original list\r\n",
        "print(tv_shows)\r\n",
        "print(\"\\n\")\r\n",
        "\r\n",
        "#5 Use sorted() to print your list in reverse alphabetical order\r\n",
        "print(sorted(tv_shows, reverse=True))\r\n",
        "print(\"\\n\")\r\n",
        "\r\n",
        "#6 Create a message indicating how many favorite tv shows you have\r\n",
        "# use the len() function\r\n",
        "message = \"I have \" + str(len(tv_shows)) + \" favorite TV shows.\"\r\n",
        "print(message)"
      ],
      "execution_count": 6,
      "outputs": [
        {
          "output_type": "stream",
          "text": [
            "\n",
            "\n",
            "['Bojack Horseman', 'Queereye', 'Criminal Minds', 'Youth with You', 'Fourtry']\n",
            "\n",
            "\n",
            "['Bojack Horseman', 'Criminal Minds', 'Fourtry', 'Queereye', 'Youth with You']\n",
            "Sorted only temporarily sorts a list, sort permanently sorts it.\n",
            "\n",
            "\n",
            "['Bojack Horseman', 'Queereye', 'Criminal Minds', 'Youth with You', 'Fourtry']\n",
            "\n",
            "\n",
            "['Youth with You', 'Queereye', 'Fourtry', 'Criminal Minds', 'Bojack Horseman']\n",
            "\n",
            "\n",
            "I have 5 favorite TV shows.\n"
          ],
          "name": "stdout"
        }
      ]
    }
  ]
}