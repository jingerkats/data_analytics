{
  "nbformat": 4,
  "nbformat_minor": 0,
  "metadata": {
    "colab": {
      "name": "Assignment 1-6-21",
      "provenance": [],
      "collapsed_sections": [],
      "authorship_tag": "ABX9TyO+EDbf6CSqJj4Z/ySOpFuV",
      "include_colab_link": true
    },
    "kernelspec": {
      "name": "python3",
      "display_name": "Python 3"
    }
  },
  "cells": [
    {
      "cell_type": "markdown",
      "metadata": {
        "id": "view-in-github",
        "colab_type": "text"
      },
      "source": [
        "<a href=\"https://colab.research.google.com/github/jingerkats/data_analytics/blob/main/Assignment_1_6_21.ipynb\" target=\"_parent\"><img src=\"https://colab.research.google.com/assets/colab-badge.svg\" alt=\"Open In Colab\"/></a>"
      ]
    },
    {
      "cell_type": "code",
      "metadata": {
        "colab": {
          "base_uri": "https://localhost:8080/"
        },
        "id": "82CodGJ7R_nF",
        "outputId": "b62b6a75-fb32-467f-81b5-13f2b24ee01c"
      },
      "source": [
        "#1 What is Python and why is it useful?\r\n",
        "print (\"Python is an open-source programming language.\")\r\n",
        "print (\"It is useful because it is easy to read and understand\")\r\n",
        "print (\"Python is also able to work on very large datasets and can perform complex operations\")\r\n",
        "print(\"\\n\")\r\n",
        "\r\n",
        "#2 Are the following variable names allowed in python?\r\n",
        "# 1_message\r\n",
        "print(\"a. No. Cannot start with a number\")\r\n",
        "# Greeting_message\r\n",
        "print (\"b. Yes.\")\r\n",
        "# Message_1\r\n",
        "print (\"c. Yes.\")\r\n",
        "# First name\r\n",
        "print (\"d. No. Cannot include spaces\")\r\n",
        "# Full_name\r\n",
        "print(\"e. Yes.\")\r\n",
        "print(\"\\n\")\r\n",
        "\r\n",
        "#3 Create a variable that holds the string \"hello there!\"\r\n",
        "hello = \"hello there!\"\r\n",
        "print(hello)\r\n",
        "print(\"\\n\")\r\n",
        "\r\n",
        "#4 Create a variable for first name, last name and an email extension. \r\n",
        "#Concatenating all three together to form an email address.\r\n",
        "first_name = \"Katherine\"\r\n",
        "last_name = \"Jin\"\r\n",
        "ext = \"@gmail.com\"\r\n",
        "email = first_name + last_name + ext\r\n",
        "print(email)\r\n",
        "print(\"\\n\")\r\n",
        "\r\n",
        "#5 Store someone you know name in a variable called name. Print their name\r\n",
        "# in lower and uppercase using a method\r\n",
        "name = \"Liu Yuxin\"\r\n",
        "print(name.upper())\r\n",
        "print(name.lower())\r\n",
        "print(\"\\n\")\r\n",
        "\r\n",
        "#6 Using a variable, ask your friend if they want to hang out on the 15th of the \r\n",
        "# month. You should have to convert the number to a string.\r\n",
        "date = 15\r\n",
        "invite = name + \", do you want to hang out on the \" + str(date) + \"th of the month?\"\r\n",
        "print(invite)"
      ],
      "execution_count": null,
      "outputs": [
        {
          "output_type": "stream",
          "text": [
            "Python is an open-source programming language.\n",
            "It is useful because it is easy to read and understand\n",
            "Python is also able to work on very large datasets and can perform complex operations\n",
            "\n",
            "\n",
            "a. No. Cannot start with a number\n",
            "b. Yes.\n",
            "c. Yes.\n",
            "d. No. Cannot include spaces\n",
            "e. Yes.\n",
            "\n",
            "\n",
            "hello there!\n",
            "\n",
            "\n",
            "KatherineJin@gmail.com\n",
            "\n",
            "\n",
            "LIU YUXIN\n",
            "liu yuxin\n",
            "\n",
            "\n",
            "Liu Yuxin, do you want to hang out on the 15th of the month?\n"
          ],
          "name": "stdout"
        }
      ]
    }
  ]
}
