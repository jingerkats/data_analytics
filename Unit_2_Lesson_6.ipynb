{
  "nbformat": 4,
  "nbformat_minor": 0,
  "metadata": {
    "colab": {
      "name": "Unit 2 Lesson 6.ipynb",
      "provenance": [],
      "collapsed_sections": [],
      "authorship_tag": "ABX9TyPygKWUhVudKLVI9dUGbnZe",
      "include_colab_link": true
    },
    "kernelspec": {
      "name": "python3",
      "display_name": "Python 3"
    }
  },
  "cells": [
    {
      "cell_type": "markdown",
      "metadata": {
        "id": "view-in-github",
        "colab_type": "text"
      },
      "source": [
        "<a href=\"https://colab.research.google.com/github/jingerkats/data_analytics/blob/main/Unit_2_Lesson_6.ipynb\" target=\"_parent\"><img src=\"https://colab.research.google.com/assets/colab-badge.svg\" alt=\"Open In Colab\"/></a>"
      ]
    },
    {
      "cell_type": "code",
      "metadata": {
        "colab": {
          "base_uri": "https://localhost:8080/"
        },
        "id": "_K0FZSdeMvvo",
        "outputId": "723bd7bd-c0be-4750-8406-ceeca31e1d88"
      },
      "source": [
        "#1  Create a simple dictionary that stores 2 variables\r\n",
        "my_name = {\"first_name\" : \"Katherine\", \"last_name\" : \"Jin\"}\r\n",
        "\r\n",
        "#2 print out those variables stored in your previous dictionary\r\n",
        "print(my_name)\r\n",
        "\r\n",
        "#3 add a message to those variables on printing\r\n",
        "print(\"Hello there \" + my_name[\"first_name\"] + \" \" + my_name[\"last_name\"] + \"!\")\r\n",
        "\r\n",
        "#4 create a dictionary that holds 2 key value pairs. Look through your dictionary and print each pair\r\n",
        "flavors = {\r\n",
        "    \"sugar\" : \"sweet\",\r\n",
        "    \"lemon\" : \"sour\"\r\n",
        "}\r\n",
        "print(flavors)\r\n",
        "\r\n",
        "#5 create a nested dictionary containing three dictionaries\r\n",
        "# loop through the dictionaries and print a message for each\r\n",
        "shoe_store = {\r\n",
        "    0 : {\"style\" : \"basic\", \"price\" : \"$40\", \"stock\" :\"1000\"},\r\n",
        "    1 : {\"style\" : \"premium\", \"price\" : \"$65\", \"stock\" : \"500\"},\r\n",
        "    2 : {\"style\" : \"customized\", \"price\" : \"$90\", \"stock\" : \"100\"}\r\n",
        "}\r\n",
        "for number, info in shoe_store.items():\r\n",
        "  print(\"\\nOption: \" + str(number))\r\n",
        "  for key in info:\r\n",
        "    print(key + \" : \" + info[key])\r\n",
        "print(\"\\n\")\r\n"
      ],
      "execution_count": 37,
      "outputs": [
        {
          "output_type": "stream",
          "text": [
            "{'first_name': 'Katherine', 'last_name': 'Jin'}\n",
            "Hello there Katherine Jin!\n",
            "{'sugar': 'sweet', 'lemon': 'sour'}\n",
            "\n",
            "Option: 0\n",
            "style : basic\n",
            "price : $40\n",
            "stock : 1000\n",
            "\n",
            "Option: 1\n",
            "style : premium\n",
            "price : $65\n",
            "stock : 500\n",
            "\n",
            "Option: 2\n",
            "style : customized\n",
            "price : $90\n",
            "stock : 100\n",
            "\n",
            "\n"
          ],
          "name": "stdout"
        }
      ]
    }
  ]
}