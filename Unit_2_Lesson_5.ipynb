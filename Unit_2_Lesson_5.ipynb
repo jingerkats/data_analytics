{
  "nbformat": 4,
  "nbformat_minor": 0,
  "metadata": {
    "colab": {
      "name": "Unit 2 Lesson 5.ipynb",
      "provenance": [],
      "collapsed_sections": [],
      "authorship_tag": "ABX9TyPZAkDirj4ctRL5jwHzr9DQ",
      "include_colab_link": true
    },
    "kernelspec": {
      "name": "python3",
      "display_name": "Python 3"
    }
  },
  "cells": [
    {
      "cell_type": "markdown",
      "metadata": {
        "id": "view-in-github",
        "colab_type": "text"
      },
      "source": [
        "<a href=\"https://colab.research.google.com/github/jingerkats/data_analytics/blob/main/Unit_2_Lesson_5.ipynb\" target=\"_parent\"><img src=\"https://colab.research.google.com/assets/colab-badge.svg\" alt=\"Open In Colab\"/></a>"
      ]
    },
    {
      "cell_type": "code",
      "metadata": {
        "id": "93-SjpSZC842",
        "colab": {
          "base_uri": "https://localhost:8080/"
        },
        "outputId": "377a6826-8adf-4835-dc51-12f446b3c824"
      },
      "source": [
        "#1 Make a list of 5 or more usernmaes, including an admin account.\r\n",
        "#Imagine you are writing code that will welcome people to your application on login. Loop through the list and print your greeting.\r\n",
        "#a if the admin account logs in, give them a special greeting. \r\n",
        "#b. Other users can get the generic greeting\r\n",
        "\r\n",
        "usernames = [\"admin\", \"Katherine\", \"Mikhail\", \"April\", \"Guest\"]\r\n",
        "for user in usernames:\r\n",
        "  if user == \"admin\":\r\n",
        "    print(\"Hello marvelous being!\")\r\n",
        "  else: print(\"Welcome\")\r\n",
        "\r\n",
        "print(\"\\n\")\r\n",
        "\r\n",
        "\r\n",
        "#2 Store numbers 1-10 in a list\r\n",
        "#a. Loop through the list\r\n",
        "#b. Use an if-elif-else chain inside your loop to print the ordinary ending for each number\r\n",
        "#st, nd, rd, th\r\n",
        "\r\n",
        "numbers = list(range(1,11))\r\n",
        "for num in numbers:\r\n",
        "  if num == 1:\r\n",
        "    print(str(num) + \"st\")\r\n",
        "  elif num == 2:\r\n",
        "    print(str(num) + \"nd\")\r\n",
        "  elif num == 3:\r\n",
        "    print(str(num) + \"rd\")\r\n",
        "  else:\r\n",
        "    print(str(num) + \"th\")\r\n"
      ],
      "execution_count": 16,
      "outputs": [
        {
          "output_type": "stream",
          "text": [
            "Hello marvelous being!\n",
            "Welcome\n",
            "Welcome\n",
            "Welcome\n",
            "Welcome\n",
            "\n",
            "\n",
            "1st\n",
            "2nd\n",
            "3rd\n",
            "4th\n",
            "5th\n",
            "6th\n",
            "7th\n",
            "8th\n",
            "9th\n",
            "10th\n"
          ],
          "name": "stdout"
        }
      ]
    },
    {
      "cell_type": "code",
      "metadata": {
        "id": "vlXcO--nIC_J"
      },
      "source": [
        ""
      ],
      "execution_count": null,
      "outputs": []
    }
  ]
}