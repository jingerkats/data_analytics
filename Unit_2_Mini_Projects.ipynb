{
  "nbformat": 4,
  "nbformat_minor": 0,
  "metadata": {
    "colab": {
      "name": "Unit 2 Mini Projects.ipynb",
      "provenance": [],
      "collapsed_sections": [],
      "authorship_tag": "ABX9TyPX7T/hsRsPnxZGrMG68qZJ",
      "include_colab_link": true
    },
    "kernelspec": {
      "name": "python3",
      "display_name": "Python 3"
    }
  },
  "cells": [
    {
      "cell_type": "markdown",
      "metadata": {
        "id": "view-in-github",
        "colab_type": "text"
      },
      "source": [
        "<a href=\"https://colab.research.google.com/github/jingerkats/data_analytics/blob/main/Unit_2_Mini_Projects.ipynb\" target=\"_parent\"><img src=\"https://colab.research.google.com/assets/colab-badge.svg\" alt=\"Open In Colab\"/></a>"
      ]
    },
    {
      "cell_type": "code",
      "metadata": {
        "colab": {
          "base_uri": "https://localhost:8080/"
        },
        "id": "3KAgw0nLmNDz",
        "outputId": "f06a225c-c9bd-4c13-ea4d-b7d876554406"
      },
      "source": [
        "#Odd or Even\r\n",
        "prompt = \"Please enter a whole number \"\r\n",
        "message = input(prompt)\r\n",
        "\r\n",
        "if int(message) % 2 == 0:\r\n",
        "  print(\"This number is even\")\r\n",
        "else:\r\n",
        "  print(\"This number is odd\")\r\n",
        "\r\n",
        "if int(message) % 4 == 0:\r\n",
        "  print(\"This number is divisible by 4\")\r\n",
        "else: \r\n",
        "  print(\"This number is not divisible by 4\")\r\n",
        "\r\n",
        "print(\"\\n\")\r\n",
        "\r\n",
        "first_prompt = \"Please enter a number to check \"\r\n",
        "second_prompt = \"Please enter a number to divide by \"\r\n",
        "message_1 = input(first_prompt)\r\n",
        "message_2 = input(second_prompt)\r\n",
        "\r\n",
        "if int(message_1) % int(message_2) == 0:\r\n",
        "  print (\"Your second number is a factor of your first number.\")\r\n",
        "else:\r\n",
        "  print (\"Your first number is not divisible by your second number.\")\r\n"
      ],
      "execution_count": null,
      "outputs": [
        {
          "output_type": "stream",
          "text": [
            "Please enter a whole number 89\n",
            "This number is odd\n",
            "This number is not divisible by 4\n",
            "Please enter a number to check 70\n",
            "Please enter a number to divide by 7\n",
            "Your second number is a factor of your first number.\n"
          ],
          "name": "stdout"
        }
      ]
    },
    {
      "cell_type": "code",
      "metadata": {
        "colab": {
          "base_uri": "https://localhost:8080/"
        },
        "id": "PrJO6lv62tqa",
        "outputId": "aab9777f-41a3-405a-83aa-5b56f416eb3e"
      },
      "source": [
        "#Rock-Paper-Scissors\r\n",
        "prompt = \"Would you like to play Rock-Paper-Scissors? (yes or no)\"\r\n",
        "game_1 = \"Player 1 please choose either rock, paper, or scissors.\"\r\n",
        "game_2 = \"Player 2 please choose either rock, paper, or scissors.\"\r\n",
        "message_1 = input(prompt).lower()\r\n",
        "\r\n",
        "\r\n",
        "while message_1 == \"yes\":\r\n",
        "  message_2 = input(game_1).lower()\r\n",
        "  message_3 = input(game_2).lower()\r\n",
        "  if message_2 == message_3:\r\n",
        "    print (\"There has been a tie.\")\r\n",
        "  elif message_2 == \"rock\" and message_3 == \"scissors\":\r\n",
        "    print (\"Congratulations Player 1! You win!\")\r\n",
        "  elif message_2 == \"rock\" and message_3 == \"paper\": \r\n",
        "    print (\"Congratuatlions Player 2! You win!\")\r\n",
        "  elif message_2 == \"scissors\" and message_3 == \"rock\":\r\n",
        "    print (\"Congratuatlions Player 2! You win!\")\r\n",
        "  elif message_2 == \"scissors\" and message_3 == \"paper\":\r\n",
        "    print (\"Congratulations Player 1! You win!\")\r\n",
        "  elif message_2 == \"paper\" and message_3 == \"rock\":\r\n",
        "    print (\"Congratulations Player 1! You win!\")\r\n",
        "  elif message_2 == \"paper\" and message_3 == \"scissors\":\r\n",
        "    print (\"Congratulations Player 2! You win!\")\r\n",
        "  message_1 = input(prompt)\r\n",
        "else:\r\n",
        "  print(\"Game Over\")"
      ],
      "execution_count": 75,
      "outputs": [
        {
          "output_type": "stream",
          "text": [
            "Would you like to play Rock-Paper-Scissors? (yes or no)yes\n",
            "Player 1 please choose either rock, paper, or scissors.rock\n",
            "Player 2 please choose either rock, paper, or scissors.SCIssors\n",
            "Congratulations Player 1! You win!\n",
            "Would you like to play Rock-Paper-Scissors? (yes or no)no\n",
            "Game Over\n"
          ],
          "name": "stdout"
        }
      ]
    }
  ]
}